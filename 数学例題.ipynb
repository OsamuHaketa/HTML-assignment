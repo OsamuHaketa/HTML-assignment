{
  "nbformat": 4,
  "nbformat_minor": 0,
  "metadata": {
    "colab": {
      "name": "数学例題.ipynb",
      "provenance": [],
      "authorship_tag": "ABX9TyNaFk0ULSU0uPsWHYk32f25",
      "include_colab_link": true
    },
    "kernelspec": {
      "name": "python3",
      "display_name": "Python 3"
    },
    "language_info": {
      "name": "python"
    }
  },
  "cells": [
    {
      "cell_type": "markdown",
      "metadata": {
        "id": "view-in-github",
        "colab_type": "text"
      },
      "source": [
        "<a href=\"https://colab.research.google.com/github/OsamuHaketa/python_practice/blob/main/%E6%95%B0%E5%AD%A6%E4%BE%8B%E9%A1%8C.ipynb\" target=\"_parent\"><img src=\"https://colab.research.google.com/assets/colab-badge.svg\" alt=\"Open In Colab\"/></a>"
      ]
    },
    {
      "cell_type": "code",
      "execution_count": null,
      "metadata": {
        "colab": {
          "base_uri": "https://localhost:8080/"
        },
        "id": "mtcQn0TiEY8T",
        "outputId": "73d9fa04-b01c-471a-a377-dd380fc94894"
      },
      "outputs": [
        {
          "output_type": "stream",
          "name": "stdout",
          "text": [
            "[-2.  5.]\n"
          ]
        }
      ],
      "source": [
        "#連立方程式\n",
        "from numpy.linalg import solve\n",
        "left = [[1, 1],\n",
        "        [1, 3]]\n",
        "\n",
        "right = [3, 13]\n",
        "\n",
        "print(solve(left, right))"
      ]
    },
    {
      "cell_type": "code",
      "source": [
        ""
      ],
      "metadata": {
        "id": "8jSLGLI53ySD"
      },
      "execution_count": null,
      "outputs": []
    },
    {
      "cell_type": "code",
      "source": [
        "#2次方程式\n",
        "from numpy.polynomial.polynomial import Polynomial\n",
        "f = Polynomial([24, -10, 1])\n",
        "print(f.roots())"
      ],
      "metadata": {
        "colab": {
          "base_uri": "https://localhost:8080/"
        },
        "id": "JjHcvUA-EhA_",
        "outputId": "64cf92e0-88ec-4401-f648-99ba0eeabf5f"
      },
      "execution_count": null,
      "outputs": [
        {
          "output_type": "stream",
          "name": "stdout",
          "text": [
            "[4. 6.]\n"
          ]
        }
      ]
    },
    {
      "cell_type": "code",
      "source": [
        "#順列、組み合わせ\n",
        "from itertools import permutations, combinations\n",
        "\n",
        "balls = [1,2,3]\n",
        "print(list(permutations(balls, 2)))\n",
        "print(list(combinations(balls, 2)))"
      ],
      "metadata": {
        "colab": {
          "base_uri": "https://localhost:8080/"
        },
        "id": "h1dsfvf8EyVm",
        "outputId": "4118f701-6293-4fdb-c49a-1a16551438e1"
      },
      "execution_count": null,
      "outputs": [
        {
          "output_type": "stream",
          "name": "stdout",
          "text": [
            "[(1, 2), (1, 3), (2, 1), (2, 3), (3, 1), (3, 2)]\n",
            "[(1, 2), (1, 3), (2, 3)]\n"
          ]
        }
      ]
    },
    {
      "cell_type": "code",
      "source": [
        "#順列のカウント(別記述)\n",
        "def permutations_count(n, r):\n",
        "    return math.factorial(n) // math.factorial(n - r)\n",
        "\n",
        "print(permutations_count(4, 2))\n",
        "print(permutations_count(4, 4))"
      ],
      "metadata": {
        "colab": {
          "base_uri": "https://localhost:8080/"
        },
        "id": "m5s2FYajNkrl",
        "outputId": "9ca3732f-8f95-40de-a824-a2a2ce246461"
      },
      "execution_count": null,
      "outputs": [
        {
          "output_type": "stream",
          "name": "stdout",
          "text": [
            "12\n",
            "24\n"
          ]
        }
      ]
    },
    {
      "cell_type": "code",
      "source": [
        "#集合例題\n",
        "a = set([1,2,3,4,5])\n",
        "b = set([1,4])\n",
        "print(a >= b) #bはaの部分集合 A⊂B\n",
        "print(a | b) #和集合\n",
        "print(a & b) #積集合"
      ],
      "metadata": {
        "colab": {
          "base_uri": "https://localhost:8080/"
        },
        "id": "UUD5Ps_2GEp_",
        "outputId": "cedff014-db62-4465-dd2c-b5d7740cad58"
      },
      "execution_count": null,
      "outputs": [
        {
          "output_type": "stream",
          "name": "stdout",
          "text": [
            "True\n",
            "{1, 2, 3, 4, 5}\n",
            "{1, 4}\n"
          ]
        }
      ]
    },
    {
      "cell_type": "code",
      "source": [
        "#微積\n",
        "import sympy\n",
        "sympy.var(\"x\")\n",
        "f = x**2-10*x+24\n",
        "print(sympy.diff(f, x))\n",
        "print(sympy.integrate(f, x))"
      ],
      "metadata": {
        "colab": {
          "base_uri": "https://localhost:8080/"
        },
        "id": "etWmrhwKGMtu",
        "outputId": "ecbdd95d-8bf8-4438-df92-865fb57b8436"
      },
      "execution_count": null,
      "outputs": [
        {
          "output_type": "stream",
          "name": "stdout",
          "text": [
            "2*x - 10\n",
            "x**3/3 - 5*x**2 + 24*x\n"
          ]
        }
      ]
    },
    {
      "cell_type": "code",
      "source": [
        "#極限問題\n",
        "import sympy\n",
        "sympy.var(\"x\")\n",
        "f = x**2-10*x+24\n",
        "print(sympy.limit(f, x, sympy.oo))"
      ],
      "metadata": {
        "colab": {
          "base_uri": "https://localhost:8080/"
        },
        "id": "lFQBi2dgGYv-",
        "outputId": "6b052d4c-fc05-4f55-ee0d-b68acfd4d57e"
      },
      "execution_count": null,
      "outputs": [
        {
          "output_type": "stream",
          "name": "stdout",
          "text": [
            "oo\n"
          ]
        }
      ]
    },
    {
      "cell_type": "code",
      "source": [
        "#ベクトルの内積問題\n",
        "import sympy\n",
        "\n",
        "a = sympy.Matrix([2, -3])\n",
        "b = sympy.Matrix([-4, 6])\n",
        "ab = a.dot(b)\n",
        "theta = sympy.acos(a.dot(b)/(a.norm()*b.norm()))\n",
        "print(f'(1)の解答　　内積は {ab}、角度θは {theta}')\n",
        "\n",
        "a = sympy.Matrix([1, 1])\n",
        "b = sympy.Matrix([1-sympy.sqrt(3), 1+sympy.sqrt(3)])\n",
        "ab = a.dot(b)\n",
        "theta = sympy.acos(a.dot(b)/(a.norm()*b.norm()))\n",
        "print(f'(2)の解答　　内積は {ab}、角度θは {theta}')"
      ],
      "metadata": {
        "colab": {
          "base_uri": "https://localhost:8080/"
        },
        "id": "HMTVNjREFt_R",
        "outputId": "9882bba5-36d3-4ad4-82e4-ebb422cc79c8"
      },
      "execution_count": null,
      "outputs": [
        {
          "output_type": "stream",
          "name": "stdout",
          "text": [
            "(1)の解答　　内積は -26、角度θは pi\n",
            "(2)の解答　　内積は 2、角度θは acos(sqrt(2)/sqrt((-1 + sqrt(3))**2 + (1 + sqrt(3))**2))\n"
          ]
        }
      ]
    },
    {
      "cell_type": "code",
      "source": [
        "#.simplifyの利用\n",
        "import sympy\n",
        "\n",
        "a = sympy.Matrix([1, 1])\n",
        "b = sympy.Matrix([1-sympy.sqrt(3), 1+sympy.sqrt(3)])\n",
        "ab = a.dot(b)\n",
        "theta = sympy.acos(sympy.simplify(a.dot(b)/(a.norm()*b.norm())))\n",
        "print(f'(2)の解答　　内積は {ab}、角度θは {theta}')"
      ],
      "metadata": {
        "colab": {
          "base_uri": "https://localhost:8080/"
        },
        "id": "qCbr3sSOF9cv",
        "outputId": "e770599a-759d-402d-f664-687ce18e4ac4"
      },
      "execution_count": null,
      "outputs": [
        {
          "output_type": "stream",
          "name": "stdout",
          "text": [
            "(2)の解答　　内積は 2、角度θは pi/3\n"
          ]
        }
      ]
    },
    {
      "cell_type": "code",
      "source": [
        "#階乗\n",
        "import math\n",
        "\n",
        "print(math.factorial(19))"
      ],
      "metadata": {
        "colab": {
          "base_uri": "https://localhost:8080/"
        },
        "id": "IHJ6JC_ELu4O",
        "outputId": "3c7d00a7-e5ae-4e98-ad01-e6b65fffbad3"
      },
      "execution_count": null,
      "outputs": [
        {
          "output_type": "stream",
          "name": "stdout",
          "text": [
            "121645100408832000\n"
          ]
        }
      ]
    },
    {
      "cell_type": "code",
      "source": [
        "#標準偏差\n",
        "import numpy as np\n",
        "\n",
        "x = [8,12,16,20]\n",
        "\n",
        "np.std(x)"
      ],
      "metadata": {
        "id": "c8lMQBqoNdRe",
        "outputId": "b36be390-cbe0-4192-f540-efeb9b381fd1",
        "colab": {
          "base_uri": "https://localhost:8080/"
        }
      },
      "execution_count": null,
      "outputs": [
        {
          "output_type": "execute_result",
          "data": {
            "text/plain": [
              "4.47213595499958"
            ]
          },
          "metadata": {},
          "execution_count": 1
        }
      ]
    },
    {
      "cell_type": "code",
      "source": [
        "li = [{'a': 6, 'b': 7, 'c': 6},\n",
        "      {'a': 4, 'b': 2, 'c': 3},\n",
        "      {'a': 1, 'b': 5, 'c': 8}]\n",
        "sorted_li = sorted(li, reverse=True, key=lambda x:x['b'])\n",
        "print(sorted_li)"
      ],
      "metadata": {
        "id": "JjDTmC8n3z1C",
        "outputId": "c97f3422-f556-41a3-a867-967709094697",
        "colab": {
          "base_uri": "https://localhost:8080/"
        }
      },
      "execution_count": null,
      "outputs": [
        {
          "output_type": "stream",
          "name": "stdout",
          "text": [
            "[{'a': 6, 'b': 7, 'c': 6}, {'a': 1, 'b': 5, 'c': 8}, {'a': 4, 'b': 2, 'c': 3}]\n"
          ]
        }
      ]
    },
    {
      "cell_type": "code",
      "source": [
        "#平方根\n",
        "import math\n",
        "print(math.sqrt(2))"
      ],
      "metadata": {
        "colab": {
          "base_uri": "https://localhost:8080/"
        },
        "id": "xS3x-Y0uO_SA",
        "outputId": "9816fdbd-ba70-4688-fd7a-f8e077a2e406"
      },
      "execution_count": 2,
      "outputs": [
        {
          "output_type": "stream",
          "name": "stdout",
          "text": [
            "1.4142135623730951\n"
          ]
        }
      ]
    }
  ]
}